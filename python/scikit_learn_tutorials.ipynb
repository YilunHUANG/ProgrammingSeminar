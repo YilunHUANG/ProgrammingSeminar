{
 "cells": [
  {
   "cell_type": "code",
   "execution_count": 1,
   "metadata": {
    "collapsed": true
   },
   "outputs": [],
   "source": [
    "# References\n",
    "# pythonの機械学習ライブラリscikit-learnの紹介\n",
    "# http://sucrose.hatenablog.com/entry/2013/05/25/133021\n",
    "# 言語処理のための機械学習入門\n",
    "# http://nlp.dse.ibaraki.ac.jp/~shinnou/zemi2011/ml4nlp/ml4nlp-rinka-0701.pdf\n",
    "# Way of Experiment &amp; Evaluation\n",
    "# http://www.slideshare.net/lanevok/way-of-experiment-evaluation-16623634"
   ]
  },
  {
   "cell_type": "code",
   "execution_count": 2,
   "metadata": {
    "collapsed": true
   },
   "outputs": [],
   "source": [
    "import numpy  as np\n",
    "import pandas as pd"
   ]
  },
  {
   "cell_type": "code",
   "execution_count": 3,
   "metadata": {
    "collapsed": false
   },
   "outputs": [
    {
     "name": "stdout",
     "output_type": "stream",
     "text": [
      "[[ 5.1  3.5  1.4  0.2]\n",
      " [ 4.9  3.   1.4  0.2]\n",
      " [ 4.7  3.2  1.3  0.2]\n",
      " [ 4.6  3.1  1.5  0.2]\n",
      " [ 5.   3.6  1.4  0.2]\n",
      " [ 5.4  3.9  1.7  0.4]\n",
      " [ 4.6  3.4  1.4  0.3]\n",
      " [ 5.   3.4  1.5  0.2]\n",
      " [ 4.4  2.9  1.4  0.2]\n",
      " [ 4.9  3.1  1.5  0.1]\n",
      " [ 5.4  3.7  1.5  0.2]\n",
      " [ 4.8  3.4  1.6  0.2]\n",
      " [ 4.8  3.   1.4  0.1]\n",
      " [ 4.3  3.   1.1  0.1]\n",
      " [ 5.8  4.   1.2  0.2]\n",
      " [ 5.7  4.4  1.5  0.4]\n",
      " [ 5.4  3.9  1.3  0.4]\n",
      " [ 5.1  3.5  1.4  0.3]\n",
      " [ 5.7  3.8  1.7  0.3]\n",
      " [ 5.1  3.8  1.5  0.3]\n",
      " [ 5.4  3.4  1.7  0.2]\n",
      " [ 5.1  3.7  1.5  0.4]\n",
      " [ 4.6  3.6  1.   0.2]\n",
      " [ 5.1  3.3  1.7  0.5]\n",
      " [ 4.8  3.4  1.9  0.2]\n",
      " [ 5.   3.   1.6  0.2]\n",
      " [ 5.   3.4  1.6  0.4]\n",
      " [ 5.2  3.5  1.5  0.2]\n",
      " [ 5.2  3.4  1.4  0.2]\n",
      " [ 4.7  3.2  1.6  0.2]\n",
      " [ 4.8  3.1  1.6  0.2]\n",
      " [ 5.4  3.4  1.5  0.4]\n",
      " [ 5.2  4.1  1.5  0.1]\n",
      " [ 5.5  4.2  1.4  0.2]\n",
      " [ 4.9  3.1  1.5  0.1]\n",
      " [ 5.   3.2  1.2  0.2]\n",
      " [ 5.5  3.5  1.3  0.2]\n",
      " [ 4.9  3.1  1.5  0.1]\n",
      " [ 4.4  3.   1.3  0.2]\n",
      " [ 5.1  3.4  1.5  0.2]\n",
      " [ 5.   3.5  1.3  0.3]\n",
      " [ 4.5  2.3  1.3  0.3]\n",
      " [ 4.4  3.2  1.3  0.2]\n",
      " [ 5.   3.5  1.6  0.6]\n",
      " [ 5.1  3.8  1.9  0.4]\n",
      " [ 4.8  3.   1.4  0.3]\n",
      " [ 5.1  3.8  1.6  0.2]\n",
      " [ 4.6  3.2  1.4  0.2]\n",
      " [ 5.3  3.7  1.5  0.2]\n",
      " [ 5.   3.3  1.4  0.2]\n",
      " [ 7.   3.2  4.7  1.4]\n",
      " [ 6.4  3.2  4.5  1.5]\n",
      " [ 6.9  3.1  4.9  1.5]\n",
      " [ 5.5  2.3  4.   1.3]\n",
      " [ 6.5  2.8  4.6  1.5]\n",
      " [ 5.7  2.8  4.5  1.3]\n",
      " [ 6.3  3.3  4.7  1.6]\n",
      " [ 4.9  2.4  3.3  1. ]\n",
      " [ 6.6  2.9  4.6  1.3]\n",
      " [ 5.2  2.7  3.9  1.4]\n",
      " [ 5.   2.   3.5  1. ]\n",
      " [ 5.9  3.   4.2  1.5]\n",
      " [ 6.   2.2  4.   1. ]\n",
      " [ 6.1  2.9  4.7  1.4]\n",
      " [ 5.6  2.9  3.6  1.3]\n",
      " [ 6.7  3.1  4.4  1.4]\n",
      " [ 5.6  3.   4.5  1.5]\n",
      " [ 5.8  2.7  4.1  1. ]\n",
      " [ 6.2  2.2  4.5  1.5]\n",
      " [ 5.6  2.5  3.9  1.1]\n",
      " [ 5.9  3.2  4.8  1.8]\n",
      " [ 6.1  2.8  4.   1.3]\n",
      " [ 6.3  2.5  4.9  1.5]\n",
      " [ 6.1  2.8  4.7  1.2]\n",
      " [ 6.4  2.9  4.3  1.3]\n",
      " [ 6.6  3.   4.4  1.4]\n",
      " [ 6.8  2.8  4.8  1.4]\n",
      " [ 6.7  3.   5.   1.7]\n",
      " [ 6.   2.9  4.5  1.5]\n",
      " [ 5.7  2.6  3.5  1. ]\n",
      " [ 5.5  2.4  3.8  1.1]\n",
      " [ 5.5  2.4  3.7  1. ]\n",
      " [ 5.8  2.7  3.9  1.2]\n",
      " [ 6.   2.7  5.1  1.6]\n",
      " [ 5.4  3.   4.5  1.5]\n",
      " [ 6.   3.4  4.5  1.6]\n",
      " [ 6.7  3.1  4.7  1.5]\n",
      " [ 6.3  2.3  4.4  1.3]\n",
      " [ 5.6  3.   4.1  1.3]\n",
      " [ 5.5  2.5  4.   1.3]\n",
      " [ 5.5  2.6  4.4  1.2]\n",
      " [ 6.1  3.   4.6  1.4]\n",
      " [ 5.8  2.6  4.   1.2]\n",
      " [ 5.   2.3  3.3  1. ]\n",
      " [ 5.6  2.7  4.2  1.3]\n",
      " [ 5.7  3.   4.2  1.2]\n",
      " [ 5.7  2.9  4.2  1.3]\n",
      " [ 6.2  2.9  4.3  1.3]\n",
      " [ 5.1  2.5  3.   1.1]\n",
      " [ 5.7  2.8  4.1  1.3]\n",
      " [ 6.3  3.3  6.   2.5]\n",
      " [ 5.8  2.7  5.1  1.9]\n",
      " [ 7.1  3.   5.9  2.1]\n",
      " [ 6.3  2.9  5.6  1.8]\n",
      " [ 6.5  3.   5.8  2.2]\n",
      " [ 7.6  3.   6.6  2.1]\n",
      " [ 4.9  2.5  4.5  1.7]\n",
      " [ 7.3  2.9  6.3  1.8]\n",
      " [ 6.7  2.5  5.8  1.8]\n",
      " [ 7.2  3.6  6.1  2.5]\n",
      " [ 6.5  3.2  5.1  2. ]\n",
      " [ 6.4  2.7  5.3  1.9]\n",
      " [ 6.8  3.   5.5  2.1]\n",
      " [ 5.7  2.5  5.   2. ]\n",
      " [ 5.8  2.8  5.1  2.4]\n",
      " [ 6.4  3.2  5.3  2.3]\n",
      " [ 6.5  3.   5.5  1.8]\n",
      " [ 7.7  3.8  6.7  2.2]\n",
      " [ 7.7  2.6  6.9  2.3]\n",
      " [ 6.   2.2  5.   1.5]\n",
      " [ 6.9  3.2  5.7  2.3]\n",
      " [ 5.6  2.8  4.9  2. ]\n",
      " [ 7.7  2.8  6.7  2. ]\n",
      " [ 6.3  2.7  4.9  1.8]\n",
      " [ 6.7  3.3  5.7  2.1]\n",
      " [ 7.2  3.2  6.   1.8]\n",
      " [ 6.2  2.8  4.8  1.8]\n",
      " [ 6.1  3.   4.9  1.8]\n",
      " [ 6.4  2.8  5.6  2.1]\n",
      " [ 7.2  3.   5.8  1.6]\n",
      " [ 7.4  2.8  6.1  1.9]\n",
      " [ 7.9  3.8  6.4  2. ]\n",
      " [ 6.4  2.8  5.6  2.2]\n",
      " [ 6.3  2.8  5.1  1.5]\n",
      " [ 6.1  2.6  5.6  1.4]\n",
      " [ 7.7  3.   6.1  2.3]\n",
      " [ 6.3  3.4  5.6  2.4]\n",
      " [ 6.4  3.1  5.5  1.8]\n",
      " [ 6.   3.   4.8  1.8]\n",
      " [ 6.9  3.1  5.4  2.1]\n",
      " [ 6.7  3.1  5.6  2.4]\n",
      " [ 6.9  3.1  5.1  2.3]\n",
      " [ 5.8  2.7  5.1  1.9]\n",
      " [ 6.8  3.2  5.9  2.3]\n",
      " [ 6.7  3.3  5.7  2.5]\n",
      " [ 6.7  3.   5.2  2.3]\n",
      " [ 6.3  2.5  5.   1.9]\n",
      " [ 6.5  3.   5.2  2. ]\n",
      " [ 6.2  3.4  5.4  2.3]\n",
      " [ 5.9  3.   5.1  1.8]]\n",
      "[0 0 0 0 0 0 0 0 0 0 0 0 0 0 0 0 0 0 0 0 0 0 0 0 0 0 0 0 0 0 0 0 0 0 0 0 0\n",
      " 0 0 0 0 0 0 0 0 0 0 0 0 0 1 1 1 1 1 1 1 1 1 1 1 1 1 1 1 1 1 1 1 1 1 1 1 1\n",
      " 1 1 1 1 1 1 1 1 1 1 1 1 1 1 1 1 1 1 1 1 1 1 1 1 1 1 2 2 2 2 2 2 2 2 2 2 2\n",
      " 2 2 2 2 2 2 2 2 2 2 2 2 2 2 2 2 2 2 2 2 2 2 2 2 2 2 2 2 2 2 2 2 2 2 2 2 2\n",
      " 2 2]\n"
     ]
    }
   ],
   "source": [
    "from sklearn.datasets import load_iris\n",
    "\n",
    "# データの読込\n",
    "iris = load_iris()\n",
    "X    = iris.data\n",
    "t    = iris.target\n",
    "\n",
    "print(X)\n",
    "print(t)"
   ]
  },
  {
   "cell_type": "code",
   "execution_count": 4,
   "metadata": {
    "collapsed": false
   },
   "outputs": [
    {
     "name": "stdout",
     "output_type": "stream",
     "text": [
      "N = 150, D = 4, K = 3\n"
     ]
    }
   ],
   "source": [
    "# N: データの数, D: データの次元, K: クラスの数\n",
    "N, D = X.shape\n",
    "K    = np.unique(t).size\n",
    "\n",
    "print(\"N = {0}, D = {1}, K = {2}\".format(N, D, K))"
   ]
  },
  {
   "cell_type": "code",
   "execution_count": 5,
   "metadata": {
    "collapsed": false
   },
   "outputs": [
    {
     "name": "stdout",
     "output_type": "stream",
     "text": [
      "N_train = 120, N_test = 30\n"
     ]
    }
   ],
   "source": [
    "from sklearn.cross_validation import train_test_split\n",
    "\n",
    "# データの分割\n",
    "X_train, X_test, t_train, t_test = train_test_split(X, t, test_size=0.2, random_state=0)\n",
    "\n",
    "N_train = X_train.shape[0]\n",
    "N_test  = X_test.shape[0]\n",
    "\n",
    "print(\"N_train = {0}, N_test = {1}\".format(N_train, N_test))"
   ]
  },
  {
   "cell_type": "code",
   "execution_count": 6,
   "metadata": {
    "collapsed": false
   },
   "outputs": [
    {
     "name": "stdout",
     "output_type": "stream",
     "text": [
      "SVC(C=2.0, cache_size=200, class_weight=None, coef0=0.0,\n",
      "  decision_function_shape=None, degree=3, gamma=0.45, kernel='rbf',\n",
      "  max_iter=-1, probability=True, random_state=None, shrinking=True,\n",
      "  tol=0.001, verbose=False)\n"
     ]
    }
   ],
   "source": [
    "from sklearn.svm import SVC\n",
    "\n",
    "# 分類器の生成 (SVM)\n",
    "clf = SVC(kernel='rbf', C=2.0, gamma=0.45, probability=True)\n",
    "\n",
    "print(clf)"
   ]
  },
  {
   "cell_type": "code",
   "execution_count": 7,
   "metadata": {
    "collapsed": false
   },
   "outputs": [
    {
     "name": "stdout",
     "output_type": "stream",
     "text": [
      "N_support = 35\n"
     ]
    }
   ],
   "source": [
    "# 学習\n",
    "clf.fit(X_train, t_train)\n",
    "\n",
    "# サポートベクトル\n",
    "support         = clf.support_\n",
    "support_vectors = X[support]\n",
    "N_support       = support_vectors.shape[0]\n",
    "\n",
    "print(\"N_support = {0}\".format(N_support))"
   ]
  },
  {
   "cell_type": "code",
   "execution_count": 8,
   "metadata": {
    "collapsed": false
   },
   "outputs": [
    {
     "name": "stdout",
     "output_type": "stream",
     "text": [
      "    proba_0   proba_1   proba_2  outputs\n",
      "0  0.215593  0.318436  0.465972        2\n",
      "1  0.352462  0.370386  0.277152        1\n"
     ]
    }
   ],
   "source": [
    "# 入力データ\n",
    "inputs  = np.array([\n",
    "    [1.1, 2.2, 3.3, 4.4],\n",
    "    [4.1, 3.2, 2.3, 1.4]\n",
    "])\n",
    "\n",
    "# 予測\n",
    "outputs = clf.predict(inputs)\n",
    "proba   = clf.predict_proba(inputs)\n",
    "\n",
    "data    = {\n",
    "    'proba_0': proba[:, 0],\n",
    "    'proba_1': proba[:, 1],\n",
    "    'proba_2': proba[:, 2],\n",
    "    'outputs': outputs\n",
    "}\n",
    "columns = ['proba_0', 'proba_1', 'proba_2', 'outputs']\n",
    "frame   = pd.DataFrame(data, columns=columns)\n",
    "\n",
    "print(frame)"
   ]
  },
  {
   "cell_type": "code",
   "execution_count": 9,
   "metadata": {
    "collapsed": false
   },
   "outputs": [
    {
     "name": "stdout",
     "output_type": "stream",
     "text": [
      "Accuracy: 1.000\n",
      "Precision(macro): 1.000\n",
      "Precision(micro): 1.000\n",
      "Recall(macro): 1.000\n",
      "Recall(micro): 1.000\n",
      "F-score(macro): 1.000\n",
      "F-score(micro): 1.000\n"
     ]
    }
   ],
   "source": [
    "from sklearn.metrics import accuracy_score\n",
    "from sklearn.metrics import precision_score\n",
    "from sklearn.metrics import recall_score\n",
    "from sklearn.metrics import f1_score\n",
    "\n",
    "y_true, y_pred = t_test, clf.predict(X_test)\n",
    "\n",
    "# 正解率\n",
    "acc = accuracy_score(y_true, y_pred)\n",
    "print(\"Accuracy: {0:.3f}\".format(acc))\n",
    "\n",
    "# 適合率\n",
    "pre_macro = precision_score(y_true, y_pred, pos_label=None, average='macro')\n",
    "pre_micro = precision_score(y_true, y_pred, pos_label=None, average='micro')\n",
    "print(\"Precision(macro): {0:.3f}\".format(pre_macro))\n",
    "print(\"Precision(micro): {0:.3f}\".format(pre_micro))\n",
    "\n",
    "# 再現率\n",
    "rec_macro = recall_score(y_true, y_pred, pos_label=None, average='macro')\n",
    "rec_micro = recall_score(y_true, y_pred, pos_label=None, average='micro')\n",
    "print(\"Recall(macro): {0:.3f}\".format(rec_macro))\n",
    "print(\"Recall(micro): {0:.3f}\".format(rec_micro))\n",
    "\n",
    "# F 値\n",
    "f1_macro  = f1_score(y_true, y_pred, pos_label=None, average='macro')\n",
    "f1_micro  = f1_score(y_true, y_pred, pos_label=None, average='micro')\n",
    "print(\"F-score(macro): {0:.3f}\".format(f1_macro))\n",
    "print(\"F-score(micro): {0:.3f}\".format(f1_micro))"
   ]
  },
  {
   "cell_type": "code",
   "execution_count": 10,
   "metadata": {
    "collapsed": false
   },
   "outputs": [
    {
     "name": "stdout",
     "output_type": "stream",
     "text": [
      "ShuffleSplit(150, n_iter=5, test_size=0.2, random_state=0)\n",
      "Accuracy: 0.973 (+/- 0.027)\n"
     ]
    }
   ],
   "source": [
    "from sklearn.cross_validation import ShuffleSplit\n",
    "\n",
    "# K-分割交差検定\n",
    "K          = 5\n",
    "cv         = ShuffleSplit(n=N, n_iter=K, test_size=1/K, random_state=0)\n",
    "scores     = []\n",
    "\n",
    "for train, test in cv:\n",
    "    print\n",
    "    X_train, X_test, t_train, t_test = X[train], X[test], t[train], t[test]\n",
    "    clf    = SVC(kernel='rbf', C=2.0, gamma=0.45, probability=True)\n",
    "    clf.fit(X_train, t_train)\n",
    "    score  = clf.score(X_test, t_test)\n",
    "    \n",
    "    scores.append(score)\n",
    "\n",
    "score_mean = np.mean(scores)\n",
    "score_std     = np.std(scores)\n",
    "\n",
    "print(\"Accuracy: {0:.3f} (+/- {1:.3f})\".format(score_mean, 2 * score_std))"
   ]
  },
  {
   "cell_type": "code",
   "execution_count": 11,
   "metadata": {
    "collapsed": false
   },
   "outputs": [
    {
     "name": "stdout",
     "output_type": "stream",
     "text": [
      "Accuracy: 0.973 (+/- 0.050)\n"
     ]
    }
   ],
   "source": [
    "from sklearn.cross_validation import cross_val_score\n",
    "\n",
    "# K-分割交差検定\n",
    "scores           = cross_val_score(clf, X, t, cv=5)\n",
    "score_mean = np.mean(scores)\n",
    "score_std     = np.std(scores)\n",
    "\n",
    "print(\"Accuracy: {0:.3f} (+/- {1:.3f})\".format(score_mean, 2 * score_std))"
   ]
  },
  {
   "cell_type": "code",
   "execution_count": 12,
   "metadata": {
    "collapsed": false
   },
   "outputs": [
    {
     "name": "stdout",
     "output_type": "stream",
     "text": [
      "Accuracy: 0.993\n",
      "Parameters: {'kernel': 'linear', 'gamma': 0.02, 'C': 1.0}\n"
     ]
    }
   ],
   "source": [
    "from sklearn.grid_search import GridSearchCV\n",
    "\n",
    "grid_params    = {\n",
    "    'kernel': ['linear', 'rbf'],\n",
    "    'C':      [1.0, 2.0, 10.0],\n",
    "    'gamma':  [0.02, 0.45, 0.9]\n",
    "}\n",
    "\n",
    "# パラメータチューニング \n",
    "grid_search    = GridSearchCV(clf, grid_params, cv=cv, n_jobs=-1)\n",
    "grid_search.fit(X, t)\n",
    "best_clf       = grid_search.best_estimator_\n",
    "best_score     = grid_search.best_score_\n",
    "best_params    = grid_search.best_params_\n",
    "\n",
    "print(\"Accuracy: {0:.3f}\".format(best_score))\n",
    "print(\"Parameters: {0}\".format(best_params))"
   ]
  },
  {
   "cell_type": "code",
   "execution_count": 13,
   "metadata": {
    "collapsed": true
   },
   "outputs": [],
   "source": [
    "import pickle\n",
    "\n",
    "# シリアライズ (書込)\n",
    "pickle.dump(best_clf, open('svm.dat', 'wb'))"
   ]
  },
  {
   "cell_type": "code",
   "execution_count": 14,
   "metadata": {
    "collapsed": true
   },
   "outputs": [],
   "source": [
    "# デシリアライズ (読込)\n",
    "best_clf = pickle.load(open('svm.dat', 'rb'))"
   ]
  }
 ],
 "metadata": {
  "kernelspec": {
   "display_name": "Python 3",
   "language": "python",
   "name": "python3"
  },
  "language_info": {
   "codemirror_mode": {
    "name": "ipython",
    "version": 3
   },
   "file_extension": ".py",
   "mimetype": "text/x-python",
   "name": "python",
   "nbconvert_exporter": "python",
   "pygments_lexer": "ipython3",
   "version": "3.5.0"
  }
 },
 "nbformat": 4,
 "nbformat_minor": 0
}
